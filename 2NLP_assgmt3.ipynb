{
  "nbformat": 4,
  "nbformat_minor": 0,
  "metadata": {
    "colab": {
      "name": "2NLP_assgmt3.ipynb",
      "provenance": [],
      "collapsed_sections": []
    },
    "kernelspec": {
      "name": "python3",
      "display_name": "Python 3"
    },
    "language_info": {
      "name": "python"
    }
  },
  "cells": [
    {
      "cell_type": "markdown",
      "metadata": {
        "id": "js_AqxYe9B5N"
      },
      "source": [
        ""
      ]
    },
    {
      "cell_type": "markdown",
      "metadata": {
        "id": "3SLfThV29BKR"
      },
      "source": [
        "#Imports and data download"
      ]
    },
    {
      "cell_type": "code",
      "metadata": {
        "id": "POuWV1gYWSsp",
        "colab": {
          "base_uri": "https://localhost:8080/"
        },
        "outputId": "a4ec9aa7-91bf-4acc-e676-3c3ba08d97ff"
      },
      "source": [
        "from tqdm import tqdm\n",
        "from sklearn.feature_extraction import DictVectorizer\n",
        "import numpy as np\n",
        "from sklearn import svm\n",
        "from sklearn.metrics import accuracy_score,confusion_matrix,ConfusionMatrixDisplay\n",
        "from matplotlib import pyplot as plt\n",
        "!wget https://data.deepai.org/conll2003.zip\n",
        "!unzip ./conll2003.zip\n",
        "import nltk\n",
        "from nltk import pos_tag\n",
        "nltk.download('averaged_perceptron_tagger')"
      ],
      "execution_count": null,
      "outputs": [
        {
          "output_type": "stream",
          "name": "stdout",
          "text": [
            "--2021-11-04 07:17:52--  https://data.deepai.org/conll2003.zip\n",
            "Resolving data.deepai.org (data.deepai.org)... 138.201.36.183\n",
            "Connecting to data.deepai.org (data.deepai.org)|138.201.36.183|:443... connected.\n",
            "HTTP request sent, awaiting response... 200 OK\n",
            "Length: 982975 (960K) [application/x-zip-compressed]\n",
            "Saving to: ‘conll2003.zip’\n",
            "\n",
            "conll2003.zip       100%[===================>] 959.94K  1.87MB/s    in 0.5s    \n",
            "\n",
            "2021-11-04 07:17:53 (1.87 MB/s) - ‘conll2003.zip’ saved [982975/982975]\n",
            "\n",
            "Archive:  ./conll2003.zip\n",
            "  inflating: metadata                \n",
            "  inflating: test.txt                \n",
            "  inflating: train.txt               \n",
            "  inflating: valid.txt               \n",
            "[nltk_data] Downloading package averaged_perceptron_tagger to\n",
            "[nltk_data]     /root/nltk_data...\n",
            "[nltk_data]   Unzipping taggers/averaged_perceptron_tagger.zip.\n"
          ]
        },
        {
          "output_type": "execute_result",
          "data": {
            "text/plain": [
              "True"
            ]
          },
          "metadata": {},
          "execution_count": 4
        }
      ]
    },
    {
      "cell_type": "code",
      "metadata": {
        "id": "c3i5vHjRFAlz",
        "colab": {
          "base_uri": "https://localhost:8080/"
        },
        "outputId": "56926bd2-6004-40b8-f9b4-38de9f9d2a00"
      },
      "source": [
        "with open('train.txt') as f:\n",
        "  train_text_data = f.readlines()\n",
        "print('train' , len(train_text_data)) \n",
        "# print(len(train_text_data)) \n",
        "with open('test.txt') as g:\n",
        "  test_data = g.readlines()\n",
        "print('test',len(test_data))\n",
        "\n",
        "with open('valid.txt') as h:\n",
        "  valin_data = h.readlines()\n",
        "print('valdn',len(valin_data))"
      ],
      "execution_count": null,
      "outputs": [
        {
          "output_type": "stream",
          "name": "stdout",
          "text": [
            "train 219554\n",
            "test 50350\n",
            "valdn 55044\n"
          ]
        }
      ]
    },
    {
      "cell_type": "markdown",
      "metadata": {
        "id": "AXu1s38itSKs"
      },
      "source": [
        "#DATA PREPROCESSING"
      ]
    },
    {
      "cell_type": "code",
      "metadata": {
        "id": "C06eCkqDFg7E"
      },
      "source": [
        "def senNametag(fileName):     #sentence_NE_tagger\n",
        "  with open(fileName) as f:\n",
        "    lines=f.readlines()\n",
        "  sentence=[]\n",
        "  data_loader=[]\n",
        "\n",
        "  for i,word in enumerate(lines):\n",
        "    if word.startswith('-DOCSTART-') or word[0]=='\\n':\n",
        "      data_loader.append(sentence)\n",
        "      sentence=[]\n",
        "      continue\n",
        "    word_seq=word.split(' ')\n",
        "    sentence.append([word_seq[0],word_seq[1],word_seq[2],1 if word_seq[3].strip()!='O' else 0])\n",
        "\n",
        "  if len(sentence)>0:\n",
        "     data_loader.append(sentence) \n",
        "\n",
        "  data_loader=[x for x in data_loader if x]\n",
        "  return data_loader\n",
        "  \n",
        "train_loader = senNametag('train.txt')\n",
        "valid_loader = senNametag('valid.txt')\n",
        "test_loader = senNametag('test.txt')"
      ],
      "execution_count": null,
      "outputs": []
    },
    {
      "cell_type": "code",
      "metadata": {
        "id": "HhjTTA1mM-X1"
      },
      "source": [
        "# len(train_loader[0])"
      ],
      "execution_count": null,
      "outputs": []
    },
    {
      "cell_type": "code",
      "metadata": {
        "id": "R0UXbWKeQiGr",
        "colab": {
          "base_uri": "https://localhost:8080/"
        },
        "outputId": "451c5106-a265-4bff-9457-4cdb91cd88a7"
      },
      "source": [
        "train_loader[2]"
      ],
      "execution_count": null,
      "outputs": [
        {
          "output_type": "execute_result",
          "data": {
            "text/plain": [
              "[['BRUSSELS', 'NNP', 'B-NP', 1], ['1996-08-22', 'CD', 'I-NP', 0]]"
            ]
          },
          "metadata": {},
          "execution_count": 8
        }
      ]
    },
    {
      "cell_type": "code",
      "metadata": {
        "id": "FnuQlIww9l92"
      },
      "source": [
        "total,n_NE_words,n_nonNE_words=0,0,0\n",
        "for i in range(len(train_loader)):\n",
        "  for j in range(len(train_loader[i])):\n",
        "    total=total+1\n",
        "    if(train_loader[i][j][-1]==1):\n",
        "        n_NE_words+=1\n",
        "    if(train_loader[i][j][-1]==0):\n",
        "        n_nonNE_words+=1\n",
        "\n",
        "# print(f'number of train sentence: {len(train_loader)}')\n",
        "# print(f'Number of NE words:{n_NE_words},number of non NE words {n_nonNE_words}')"
      ],
      "execution_count": null,
      "outputs": []
    },
    {
      "cell_type": "code",
      "metadata": {
        "id": "whlfTqCGAHqQ",
        "colab": {
          "base_uri": "https://localhost:8080/"
        },
        "outputId": "360f9b7b-9d78-4cc4-eacd-ff24bd1d605d"
      },
      "source": [
        "POS_tags = set(map(lambda x:x[0][2][::-1].split('-')[0][::-1], train_loader))\n",
        "POS_tags"
      ],
      "execution_count": null,
      "outputs": [
        {
          "output_type": "execute_result",
          "data": {
            "text/plain": [
              "{'ADJP', 'ADVP', 'CONJP', 'INTJ', 'LST', 'NP', 'O', 'PP', 'PRT', 'SBAR', 'VP'}"
            ]
          },
          "metadata": {},
          "execution_count": 10
        }
      ]
    },
    {
      "cell_type": "code",
      "metadata": {
        "id": "fFrY0j_6DVDL"
      },
      "source": [
        "def wordFeat(i,sent,pos_no):        #wordToFeatures\n",
        "  word=sent[i][0]\n",
        "  pos_tag=sent[i][2]\n",
        "\n",
        "  word_features={\n",
        "      'length':len(word),\n",
        "      'tag_POS':pos_no[pos_tag[::-1].split('-')[0][::-1]],\n",
        "      'tag_prev_pos':pos_no[sent[max(i-1,0)][2][::-1].split('-')[0][::-1]],\n",
        "      'tag_next_pos': pos_no[sent[min(i+1,len(sent)-1)][2][::-1].split('-')[0][::-1]],\n",
        "      'First_not_Captial': 1 if (i!=0 and word[0].isupper()) else 0,\n",
        "      'All_capital_letters': 1 if word.isupper() else 0\n",
        "  }\n",
        "  return word_features"
      ],
      "execution_count": null,
      "outputs": []
    },
    {
      "cell_type": "code",
      "metadata": {
        "id": "NCpLt9SKLpz1"
      },
      "source": [
        "def sentFeat(sent,pos_no):        #sentenceToFeatures\n",
        "  return [wordFeat(i,sent,pos_no) for i in range(len(sent))]\n",
        "\n",
        "def senLab(sentence):         #sentenceToLabels\n",
        "  return list(map(lambda x:x[-1],sentence))\n",
        "\n",
        "def posToNum():\n",
        "  pos_to_numLabels={x[1]:x[0] for x in list(enumerate(sorted(set(map(lambda x:x[0][2][::-1].split('-')[0][::-1], train_loader)))))}\n",
        "  return pos_to_numLabels\n",
        "pos_to_num=posToNum()"
      ],
      "execution_count": null,
      "outputs": []
    },
    {
      "cell_type": "code",
      "metadata": {
        "id": "MoDcEPSLV_Ho",
        "colab": {
          "base_uri": "https://localhost:8080/"
        },
        "outputId": "a57568aa-9ab1-4de5-fe4a-bd423e81e96f"
      },
      "source": [
        "pos_to_num"
      ],
      "execution_count": null,
      "outputs": [
        {
          "output_type": "execute_result",
          "data": {
            "text/plain": [
              "{'ADJP': 0,\n",
              " 'ADVP': 1,\n",
              " 'CONJP': 2,\n",
              " 'INTJ': 3,\n",
              " 'LST': 4,\n",
              " 'NP': 5,\n",
              " 'O': 6,\n",
              " 'PP': 7,\n",
              " 'PRT': 8,\n",
              " 'SBAR': 9,\n",
              " 'VP': 10}"
            ]
          },
          "metadata": {},
          "execution_count": 13
        }
      ]
    },
    {
      "cell_type": "code",
      "metadata": {
        "id": "jsItXJMuWAsc",
        "colab": {
          "base_uri": "https://localhost:8080/"
        },
        "outputId": "f940cc01-fe77-4641-ec8b-1ada9da3cef7"
      },
      "source": [
        "train_features,valid_features=[],[]\n",
        "train_labels,valid_labels=[],[]\n",
        "pos_as_num=posToNum()\n",
        "for i in tqdm(range(len(train_loader))):\n",
        "    train_features.append(sentFeat(train_loader[i],pos_as_num))\n",
        "    train_labels.append(senLab(train_loader[i]))\n",
        "\n",
        "for i in tqdm(range(len(valid_loader))):\n",
        "    valid_features.append(sentFeat(valid_loader[i],pos_as_num))\n",
        "    valid_labels.append(senLab(valid_loader[i]))"
      ],
      "execution_count": null,
      "outputs": [
        {
          "output_type": "stream",
          "name": "stderr",
          "text": [
            "100%|██████████| 14041/14041 [00:00<00:00, 19636.63it/s]\n",
            "100%|██████████| 3250/3250 [00:00<00:00, 16393.34it/s]\n"
          ]
        }
      ]
    },
    {
      "cell_type": "code",
      "metadata": {
        "id": "J57JWc0Azeni",
        "colab": {
          "base_uri": "https://localhost:8080/"
        },
        "outputId": "f6ee3491-f801-4f22-e04d-a44602356fe0"
      },
      "source": [
        "train_features[10]"
      ],
      "execution_count": null,
      "outputs": [
        {
          "output_type": "execute_result",
          "data": {
            "text/plain": [
              "[{'All_capital_letters': 0,\n",
              "  'First_not_Captial': 0,\n",
              "  'length': 7,\n",
              "  'tag_POS': 5,\n",
              "  'tag_next_pos': 5,\n",
              "  'tag_prev_pos': 5},\n",
              " {'All_capital_letters': 0,\n",
              "  'First_not_Captial': 1,\n",
              "  'length': 4,\n",
              "  'tag_POS': 5,\n",
              "  'tag_next_pos': 5,\n",
              "  'tag_prev_pos': 5},\n",
              " {'All_capital_letters': 0,\n",
              "  'First_not_Captial': 1,\n",
              "  'length': 8,\n",
              "  'tag_POS': 5,\n",
              "  'tag_next_pos': 5,\n",
              "  'tag_prev_pos': 5},\n",
              " {'All_capital_letters': 0,\n",
              "  'First_not_Captial': 1,\n",
              "  'length': 6,\n",
              "  'tag_POS': 5,\n",
              "  'tag_next_pos': 5,\n",
              "  'tag_prev_pos': 5},\n",
              " {'All_capital_letters': 0,\n",
              "  'First_not_Captial': 0,\n",
              "  'length': 2,\n",
              "  'tag_POS': 5,\n",
              "  'tag_next_pos': 5,\n",
              "  'tag_prev_pos': 5},\n",
              " {'All_capital_letters': 0,\n",
              "  'First_not_Captial': 1,\n",
              "  'length': 7,\n",
              "  'tag_POS': 5,\n",
              "  'tag_next_pos': 10,\n",
              "  'tag_prev_pos': 5},\n",
              " {'All_capital_letters': 0,\n",
              "  'First_not_Captial': 0,\n",
              "  'length': 3,\n",
              "  'tag_POS': 10,\n",
              "  'tag_next_pos': 10,\n",
              "  'tag_prev_pos': 5},\n",
              " {'All_capital_letters': 0,\n",
              "  'First_not_Captial': 0,\n",
              "  'length': 7,\n",
              "  'tag_POS': 10,\n",
              "  'tag_next_pos': 10,\n",
              "  'tag_prev_pos': 10},\n",
              " {'All_capital_letters': 0,\n",
              "  'First_not_Captial': 0,\n",
              "  'length': 7,\n",
              "  'tag_POS': 10,\n",
              "  'tag_next_pos': 5,\n",
              "  'tag_prev_pos': 10},\n",
              " {'All_capital_letters': 0,\n",
              "  'First_not_Captial': 1,\n",
              "  'length': 8,\n",
              "  'tag_POS': 5,\n",
              "  'tag_next_pos': 7,\n",
              "  'tag_prev_pos': 10},\n",
              " {'All_capital_letters': 0,\n",
              "  'First_not_Captial': 0,\n",
              "  'length': 2,\n",
              "  'tag_POS': 7,\n",
              "  'tag_next_pos': 5,\n",
              "  'tag_prev_pos': 5},\n",
              " {'All_capital_letters': 0,\n",
              "  'First_not_Captial': 0,\n",
              "  'length': 2,\n",
              "  'tag_POS': 5,\n",
              "  'tag_next_pos': 5,\n",
              "  'tag_prev_pos': 7},\n",
              " {'All_capital_letters': 1,\n",
              "  'First_not_Captial': 1,\n",
              "  'length': 2,\n",
              "  'tag_POS': 5,\n",
              "  'tag_next_pos': 5,\n",
              "  'tag_prev_pos': 5},\n",
              " {'All_capital_letters': 0,\n",
              "  'First_not_Captial': 0,\n",
              "  'length': 4,\n",
              "  'tag_POS': 5,\n",
              "  'tag_next_pos': 5,\n",
              "  'tag_prev_pos': 5},\n",
              " {'All_capital_letters': 0,\n",
              "  'First_not_Captial': 0,\n",
              "  'length': 9,\n",
              "  'tag_POS': 5,\n",
              "  'tag_next_pos': 5,\n",
              "  'tag_prev_pos': 5},\n",
              " {'All_capital_letters': 0,\n",
              "  'First_not_Captial': 0,\n",
              "  'length': 1,\n",
              "  'tag_POS': 5,\n",
              "  'tag_next_pos': 5,\n",
              "  'tag_prev_pos': 5},\n",
              " {'All_capital_letters': 0,\n",
              "  'First_not_Captial': 0,\n",
              "  'length': 7,\n",
              "  'tag_POS': 5,\n",
              "  'tag_next_pos': 7,\n",
              "  'tag_prev_pos': 5},\n",
              " {'All_capital_letters': 0,\n",
              "  'First_not_Captial': 0,\n",
              "  'length': 2,\n",
              "  'tag_POS': 7,\n",
              "  'tag_next_pos': 10,\n",
              "  'tag_prev_pos': 5},\n",
              " {'All_capital_letters': 0,\n",
              "  'First_not_Captial': 0,\n",
              "  'length': 7,\n",
              "  'tag_POS': 10,\n",
              "  'tag_next_pos': 0,\n",
              "  'tag_prev_pos': 7},\n",
              " {'All_capital_letters': 0,\n",
              "  'First_not_Captial': 0,\n",
              "  'length': 11,\n",
              "  'tag_POS': 0,\n",
              "  'tag_next_pos': 5,\n",
              "  'tag_prev_pos': 10},\n",
              " {'All_capital_letters': 0,\n",
              "  'First_not_Captial': 0,\n",
              "  'length': 5,\n",
              "  'tag_POS': 5,\n",
              "  'tag_next_pos': 7,\n",
              "  'tag_prev_pos': 0},\n",
              " {'All_capital_letters': 0,\n",
              "  'First_not_Captial': 0,\n",
              "  'length': 7,\n",
              "  'tag_POS': 7,\n",
              "  'tag_next_pos': 6,\n",
              "  'tag_prev_pos': 5},\n",
              " {'All_capital_letters': 0,\n",
              "  'First_not_Captial': 0,\n",
              "  'length': 1,\n",
              "  'tag_POS': 6,\n",
              "  'tag_next_pos': 5,\n",
              "  'tag_prev_pos': 7},\n",
              " {'All_capital_letters': 0,\n",
              "  'First_not_Captial': 0,\n",
              "  'length': 9,\n",
              "  'tag_POS': 5,\n",
              "  'tag_next_pos': 5,\n",
              "  'tag_prev_pos': 6},\n",
              " {'All_capital_letters': 0,\n",
              "  'First_not_Captial': 0,\n",
              "  'length': 14,\n",
              "  'tag_POS': 5,\n",
              "  'tag_next_pos': 6,\n",
              "  'tag_prev_pos': 5},\n",
              " {'All_capital_letters': 0,\n",
              "  'First_not_Captial': 0,\n",
              "  'length': 1,\n",
              "  'tag_POS': 6,\n",
              "  'tag_next_pos': 6,\n",
              "  'tag_prev_pos': 5},\n",
              " {'All_capital_letters': 0,\n",
              "  'First_not_Captial': 0,\n",
              "  'length': 1,\n",
              "  'tag_POS': 6,\n",
              "  'tag_next_pos': 6,\n",
              "  'tag_prev_pos': 6}]"
            ]
          },
          "metadata": {},
          "execution_count": 15
        }
      ]
    },
    {
      "cell_type": "code",
      "metadata": {
        "id": "KopFja31pt2m",
        "colab": {
          "base_uri": "https://localhost:8080/"
        },
        "outputId": "b2fe4c5a-4016-41d7-f708-2daba8dae6b8"
      },
      "source": [
        "dict_vec=DictVectorizer()\n",
        "X_train=np.concatenate(np.array([dict_vec.fit_transform(x).toarray() for x in train_features]))\n",
        "Y_train=np.concatenate(np.array(train_labels))\n",
        "X_val=np.concatenate(np.array([dict_vec.fit_transform(x).toarray() for x in valid_features]))\n",
        "Y_val=np.concatenate(np.array(valid_labels))"
      ],
      "execution_count": null,
      "outputs": [
        {
          "output_type": "stream",
          "name": "stderr",
          "text": [
            "/usr/local/lib/python3.7/dist-packages/ipykernel_launcher.py:2: VisibleDeprecationWarning: Creating an ndarray from ragged nested sequences (which is a list-or-tuple of lists-or-tuples-or ndarrays with different lengths or shapes) is deprecated. If you meant to do this, you must specify 'dtype=object' when creating the ndarray\n",
            "  \n",
            "/usr/local/lib/python3.7/dist-packages/ipykernel_launcher.py:3: VisibleDeprecationWarning: Creating an ndarray from ragged nested sequences (which is a list-or-tuple of lists-or-tuples-or ndarrays with different lengths or shapes) is deprecated. If you meant to do this, you must specify 'dtype=object' when creating the ndarray\n",
            "  This is separate from the ipykernel package so we can avoid doing imports until\n",
            "/usr/local/lib/python3.7/dist-packages/ipykernel_launcher.py:4: VisibleDeprecationWarning: Creating an ndarray from ragged nested sequences (which is a list-or-tuple of lists-or-tuples-or ndarrays with different lengths or shapes) is deprecated. If you meant to do this, you must specify 'dtype=object' when creating the ndarray\n",
            "  after removing the cwd from sys.path.\n",
            "/usr/local/lib/python3.7/dist-packages/ipykernel_launcher.py:5: VisibleDeprecationWarning: Creating an ndarray from ragged nested sequences (which is a list-or-tuple of lists-or-tuples-or ndarrays with different lengths or shapes) is deprecated. If you meant to do this, you must specify 'dtype=object' when creating the ndarray\n",
            "  \"\"\"\n"
          ]
        }
      ]
    },
    {
      "cell_type": "code",
      "metadata": {
        "id": "Ez8qQcc4suAQ",
        "colab": {
          "base_uri": "https://localhost:8080/"
        },
        "outputId": "ae4573cd-b303-4f5c-8286-a6d0aaee5de6"
      },
      "source": [
        "print(f'training data shape :{X_train.shape} actual training output shape :{Y_train.shape}')\n",
        "print(f'validation data shape :{X_val.shape} actual validation output shape :{Y_val.shape}')"
      ],
      "execution_count": null,
      "outputs": [
        {
          "output_type": "stream",
          "name": "stdout",
          "text": [
            "training data shape :(203621, 6) actual training output shape :(203621,)\n",
            "validation data shape :(51362, 6) actual validation output shape :(51362,)\n"
          ]
        }
      ]
    },
    {
      "cell_type": "markdown",
      "metadata": {
        "id": "2airZYZfCOJy"
      },
      "source": [
        "#SVM classifier"
      ]
    },
    {
      "cell_type": "code",
      "metadata": {
        "id": "ayvilyCht_u6",
        "colab": {
          "base_uri": "https://localhost:8080/"
        },
        "outputId": "16631e21-2da8-4c72-8088-d3cbedbc8ce2"
      },
      "source": [
        "SVM=svm.SVC(C=1.0,kernel='linear',degree=3 ,gamma='auto',verbose=True)\n",
        "SVM.fit(X_train,Y_train)"
      ],
      "execution_count": null,
      "outputs": [
        {
          "output_type": "stream",
          "name": "stdout",
          "text": [
            "[LibSVM]"
          ]
        },
        {
          "output_type": "execute_result",
          "data": {
            "text/plain": [
              "SVC(C=1.0, break_ties=False, cache_size=200, class_weight=None, coef0=0.0,\n",
              "    decision_function_shape='ovr', degree=3, gamma='auto', kernel='linear',\n",
              "    max_iter=-1, probability=False, random_state=None, shrinking=True,\n",
              "    tol=0.001, verbose=True)"
            ]
          },
          "metadata": {},
          "execution_count": 18
        }
      ]
    },
    {
      "cell_type": "code",
      "metadata": {
        "id": "RmacYHK8ulwF"
      },
      "source": [
        "y_pred=SVM.predict(X_val)\n",
        "accuracy=accuracy_score(y_pred,Y_val)\n",
        "# print(len(y_pred),len(Y_val))\n"
      ],
      "execution_count": null,
      "outputs": []
    },
    {
      "cell_type": "markdown",
      "metadata": {
        "id": "2u2JKCee9qim"
      },
      "source": [
        "#Confusion matrix and all the parameters calculation"
      ]
    },
    {
      "cell_type": "code",
      "metadata": {
        "id": "w2rDjYtj0grj"
      },
      "source": [
        "conf_mat=confusion_matrix(y_pred,Y_val)\n",
        "precision=np.zeros(conf_mat.shape[0])\n",
        "recall=np.zeros(conf_mat.shape[0])\n",
        "acc=0\n",
        "for i in range(conf_mat.shape[0]):\n",
        "  if conf_mat.sum(axis=0)[i] !=0:\n",
        "    precision[i]=conf_mat[i][i]/conf_mat.sum(axis=0)[i]\n",
        "    recall[i]=conf_mat[i][i]/conf_mat.sum(axis=1)[i]\n",
        "    acc+=conf_mat\n",
        "\n",
        "acc=acc/sum(sum(conf_mat))\n",
        "total_precision=sum(precision)/len(precision)\n",
        "total_recall=sum(recall)/len(recall)\n",
        "f1_score=(2*total_precision*total_recall)/(total_precision+total_recall)\n",
        "# f_0.5_score=(1.25*total_precision*total_recall)/(0.25*total_precision+total_recall)\n",
        "f2_score=(5*total_precision*total_recall)/(4*total_precision+total_recall)"
      ],
      "execution_count": null,
      "outputs": []
    },
    {
      "cell_type": "markdown",
      "metadata": {
        "id": "1YWgVHtSRME9"
      },
      "source": [
        "0.8194969043261555 C=1.0,kernel='sigmoid',degree=6 ,gamma='auto',verbose=True \\\\\n",
        "0.9397219734434017 C=1.0,kernel='linear',degree=3 ,gamma='auto',verbose=True"
      ]
    },
    {
      "cell_type": "code",
      "metadata": {
        "id": "nwcvzk_hI6kX",
        "colab": {
          "base_uri": "https://localhost:8080/",
          "height": 470
        },
        "outputId": "180f41ca-133a-47e0-d44a-1505fa8374d2"
      },
      "source": [
        "print(\"SVMcoef_\",SVM.coef_)\n",
        "print('accuracy is :',accuracy)\n",
        "print('precision: ', total_precision)\n",
        "print('recall : ',total_recall)\n",
        "print('f1 score: ', f1_score)\n",
        "print('f2 score : ',f2_score)\n",
        "print('confusion matrix',conf_mat)\n",
        "x = ['length','tag_POS','tag_prev_pos','tag_next_pos','First_not_Captial','All_capital_letters']\n",
        "x1 = np.array(x)\n",
        "y = np.log(SVM.coef_)\n",
        "plt.scatter(x1,y)"
      ],
      "execution_count": null,
      "outputs": [
        {
          "output_type": "stream",
          "name": "stdout",
          "text": [
            "SVMcoef_ [[-1.53477231e-12  2.00002167e+00  3.40489879e-06  1.20693851e-05\n",
            "   1.11557097e-06 -2.58478802e-05]]\n",
            "accuracy is : 0.9397219734434017\n",
            "precision:  0.8912799706500112\n",
            "recall :  0.8923007281100408\n",
            "f1 score:  0.891790057286208\n",
            "f2 score :  0.8920963896137768\n",
            "confusion matrix [[41225  1562]\n",
            " [ 1534  7041]]\n"
          ]
        },
        {
          "output_type": "stream",
          "name": "stderr",
          "text": [
            "/usr/local/lib/python3.7/dist-packages/ipykernel_launcher.py:10: RuntimeWarning: invalid value encountered in log\n",
            "  # Remove the CWD from sys.path while we load stuff.\n"
          ]
        },
        {
          "output_type": "execute_result",
          "data": {
            "text/plain": [
              "<matplotlib.collections.PathCollection at 0x7fc043ee1f50>"
            ]
          },
          "metadata": {},
          "execution_count": 21
        },
        {
          "output_type": "display_data",
          "data": {
            "image/png": "[encoded data removed]",
            "text/plain": [
              "<Figure size 432x288 with 1 Axes>"
            ]
          },
          "metadata": {
            "needs_background": "light"
          }
        }
      ]
    },
    {
      "cell_type": "code",
      "metadata": {
        "colab": {
          "base_uri": "https://localhost:8080/"
        },
        "id": "yMOmi0wW34X3",
        "outputId": "95a4ba29-5423-434d-94b5-77cc07cdda54"
      },
      "source": [
        "valid_loader[1]"
      ],
      "execution_count": null,
      "outputs": [
        {
          "output_type": "execute_result",
          "data": {
            "text/plain": [
              "[['LONDON', 'NNP', 'B-NP', 1], ['1996-08-30', 'CD', 'I-NP', 0]]"
            ]
          },
          "metadata": {},
          "execution_count": 27
        }
      ]
    },
    {
      "cell_type": "code",
      "metadata": {
        "colab": {
          "base_uri": "https://localhost:8080/"
        },
        "id": "44y97OJf4Lwy",
        "outputId": "2a03754c-1ff2-4922-8a87-030618d8b200"
      },
      "source": [
        "valid_labels[1]"
      ],
      "execution_count": null,
      "outputs": [
        {
          "output_type": "execute_result",
          "data": {
            "text/plain": [
              "[1, 0]"
            ]
          },
          "metadata": {},
          "execution_count": 28
        }
      ]
    },
    {
      "cell_type": "code",
      "metadata": {
        "colab": {
          "base_uri": "https://localhost:8080/"
        },
        "id": "XnaxQlre5v3b",
        "outputId": "b86411fc-b50e-4048-a8dd-7ba9549d595e"
      },
      "source": [
        "import nltk\n",
        "from nltk import pos_tag\n",
        "nltk.download('averaged_perceptron_tagger')"
      ],
      "execution_count": null,
      "outputs": [
        {
          "output_type": "stream",
          "name": "stdout",
          "text": [
            "[nltk_data] Downloading package averaged_perceptron_tagger to\n",
            "[nltk_data]     /root/nltk_data...\n",
            "[nltk_data]   Package averaged_perceptron_tagger is already up-to-\n",
            "[nltk_data]       date!\n"
          ]
        },
        {
          "output_type": "execute_result",
          "data": {
            "text/plain": [
              "True"
            ]
          },
          "metadata": {},
          "execution_count": 29
        }
      ]
    },
    {
      "cell_type": "code",
      "metadata": {
        "id": "6pU1JyLV50xV"
      },
      "source": [
        "sent1 = 'The State Bank of India is the largest bank in the country'\n",
        "sent2 = 'Pushpak Bhattacharyya teaches us CS626'\n",
        "sent3 = 'India got its freedom on 15th August 1947'\n",
        "# sent4 = 'India got its freedom on 15-8-1947'\n",
        "# sent5 = 'India got its freedom on 15/8/1947'\n",
        "# sent6 = 'India got its freedom on 15.8.1947'"
      ],
      "execution_count": null,
      "outputs": []
    },
    {
      "cell_type": "code",
      "metadata": {
        "colab": {
          "base_uri": "https://localhost:8080/"
        },
        "id": "LBdEJeUE50u0",
        "outputId": "9aa77601-7d05-4ff6-8b63-41ca71adc68f"
      },
      "source": [
        "text = sent1.split()\n",
        "text"
      ],
      "execution_count": null,
      "outputs": [
        {
          "output_type": "execute_result",
          "data": {
            "text/plain": [
              "['The',\n",
              " 'State',\n",
              " 'Bank',\n",
              " 'of',\n",
              " 'India',\n",
              " 'is',\n",
              " 'the',\n",
              " 'largest',\n",
              " 'bank',\n",
              " 'in',\n",
              " 'the',\n",
              " 'country']"
            ]
          },
          "metadata": {},
          "execution_count": 32
        }
      ]
    },
    {
      "cell_type": "code",
      "metadata": {
        "colab": {
          "base_uri": "https://localhost:8080/"
        },
        "id": "AGC8rjMW6FBb",
        "outputId": "a2e3c641-071a-4437-facf-9c6c26ab947a"
      },
      "source": [
        "tokens_tag = pos_tag(text)\n",
        "tokens_tag"
      ],
      "execution_count": null,
      "outputs": [
        {
          "output_type": "execute_result",
          "data": {
            "text/plain": [
              "[('The', 'DT'),\n",
              " ('State', 'NNP'),\n",
              " ('Bank', 'NNP'),\n",
              " ('of', 'IN'),\n",
              " ('India', 'NNP'),\n",
              " ('is', 'VBZ'),\n",
              " ('the', 'DT'),\n",
              " ('largest', 'JJS'),\n",
              " ('bank', 'NN'),\n",
              " ('in', 'IN'),\n",
              " ('the', 'DT'),\n",
              " ('country', 'NN')]"
            ]
          },
          "metadata": {},
          "execution_count": 34
        }
      ]
    },
    {
      "cell_type": "code",
      "metadata": {
        "id": "PMMBnXy26vAn"
      },
      "source": [
        "def custom_sents2features(sent):\n",
        "  if isinstance(sent,str):\n",
        "    print(\"instance is str\")\n",
        "    sent = sent.strip().split(' ')\n",
        "  elif isinstance(sent,list):\n",
        "    pass\n",
        "  else:\n",
        "    raise ValueError(\"Input sentence must be in list of words format or string format\")\n",
        "  # print(sent)\n",
        "  # print(len(sent))\n",
        "  return [noPOS_word2features(sent, i) for i in range(len(sent))]"
      ],
      "execution_count": null,
      "outputs": []
    },
    {
      "cell_type": "code",
      "metadata": {
        "colab": {
          "base_uri": "https://localhost:8080/",
          "height": 306
        },
        "id": "O4CDIX3i6Z14",
        "outputId": "4ea77014-61a2-4774-d496-e5b89ac78790"
      },
      "source": [
        "vec = DictVectorizer()\n",
        "custom_feats = custom_sents2features(text)\n",
        "X_custom_test = np.concatenate(np.array([vec.fit_transform(x).toarray() for x in custom_feats]))"
      ],
      "execution_count": null,
      "outputs": [
        {
          "output_type": "error",
          "ename": "NameError",
          "evalue": "ignored",
          "traceback": [
            "\u001b[0;31m---------------------------------------------------------------------------\u001b[0m",
            "\u001b[0;31mNameError\u001b[0m                                 Traceback (most recent call last)",
            "\u001b[0;32m<ipython-input-39-76460a67f25a>\u001b[0m in \u001b[0;36m<module>\u001b[0;34m()\u001b[0m\n\u001b[1;32m      1\u001b[0m \u001b[0mvec\u001b[0m \u001b[0;34m=\u001b[0m \u001b[0mDictVectorizer\u001b[0m\u001b[0;34m(\u001b[0m\u001b[0;34m)\u001b[0m\u001b[0;34m\u001b[0m\u001b[0;34m\u001b[0m\u001b[0m\n\u001b[0;32m----> 2\u001b[0;31m \u001b[0mcustom_feats\u001b[0m \u001b[0;34m=\u001b[0m \u001b[0mcustom_sents2features\u001b[0m\u001b[0;34m(\u001b[0m\u001b[0mtext\u001b[0m\u001b[0;34m)\u001b[0m\u001b[0;34m\u001b[0m\u001b[0;34m\u001b[0m\u001b[0m\n\u001b[0m\u001b[1;32m      3\u001b[0m \u001b[0mX_custom_test\u001b[0m \u001b[0;34m=\u001b[0m \u001b[0mnp\u001b[0m\u001b[0;34m.\u001b[0m\u001b[0mconcatenate\u001b[0m\u001b[0;34m(\u001b[0m\u001b[0mnp\u001b[0m\u001b[0;34m.\u001b[0m\u001b[0marray\u001b[0m\u001b[0;34m(\u001b[0m\u001b[0;34m[\u001b[0m\u001b[0mvec\u001b[0m\u001b[0;34m.\u001b[0m\u001b[0mfit_transform\u001b[0m\u001b[0;34m(\u001b[0m\u001b[0mx\u001b[0m\u001b[0;34m)\u001b[0m\u001b[0;34m.\u001b[0m\u001b[0mtoarray\u001b[0m\u001b[0;34m(\u001b[0m\u001b[0;34m)\u001b[0m \u001b[0;32mfor\u001b[0m \u001b[0mx\u001b[0m \u001b[0;32min\u001b[0m \u001b[0mcustom_feats\u001b[0m\u001b[0;34m]\u001b[0m\u001b[0;34m)\u001b[0m\u001b[0;34m)\u001b[0m\u001b[0;34m\u001b[0m\u001b[0;34m\u001b[0m\u001b[0m\n",
            "\u001b[0;32m<ipython-input-37-f69ea0c8f563>\u001b[0m in \u001b[0;36mcustom_sents2features\u001b[0;34m(sent)\u001b[0m\n\u001b[1;32m      9\u001b[0m   \u001b[0;31m# print(sent)\u001b[0m\u001b[0;34m\u001b[0m\u001b[0;34m\u001b[0m\u001b[0;34m\u001b[0m\u001b[0m\n\u001b[1;32m     10\u001b[0m   \u001b[0;31m# print(len(sent))\u001b[0m\u001b[0;34m\u001b[0m\u001b[0;34m\u001b[0m\u001b[0;34m\u001b[0m\u001b[0m\n\u001b[0;32m---> 11\u001b[0;31m   \u001b[0;32mreturn\u001b[0m \u001b[0;34m[\u001b[0m\u001b[0mnoPOS_word2features\u001b[0m\u001b[0;34m(\u001b[0m\u001b[0msent\u001b[0m\u001b[0;34m,\u001b[0m \u001b[0mi\u001b[0m\u001b[0;34m)\u001b[0m \u001b[0;32mfor\u001b[0m \u001b[0mi\u001b[0m \u001b[0;32min\u001b[0m \u001b[0mrange\u001b[0m\u001b[0;34m(\u001b[0m\u001b[0mlen\u001b[0m\u001b[0;34m(\u001b[0m\u001b[0msent\u001b[0m\u001b[0;34m)\u001b[0m\u001b[0;34m)\u001b[0m\u001b[0;34m]\u001b[0m\u001b[0;34m\u001b[0m\u001b[0;34m\u001b[0m\u001b[0m\n\u001b[0m",
            "\u001b[0;32m<ipython-input-37-f69ea0c8f563>\u001b[0m in \u001b[0;36m<listcomp>\u001b[0;34m(.0)\u001b[0m\n\u001b[1;32m      9\u001b[0m   \u001b[0;31m# print(sent)\u001b[0m\u001b[0;34m\u001b[0m\u001b[0;34m\u001b[0m\u001b[0;34m\u001b[0m\u001b[0m\n\u001b[1;32m     10\u001b[0m   \u001b[0;31m# print(len(sent))\u001b[0m\u001b[0;34m\u001b[0m\u001b[0;34m\u001b[0m\u001b[0;34m\u001b[0m\u001b[0m\n\u001b[0;32m---> 11\u001b[0;31m   \u001b[0;32mreturn\u001b[0m \u001b[0;34m[\u001b[0m\u001b[0mnoPOS_word2features\u001b[0m\u001b[0;34m(\u001b[0m\u001b[0msent\u001b[0m\u001b[0;34m,\u001b[0m \u001b[0mi\u001b[0m\u001b[0;34m)\u001b[0m \u001b[0;32mfor\u001b[0m \u001b[0mi\u001b[0m \u001b[0;32min\u001b[0m \u001b[0mrange\u001b[0m\u001b[0;34m(\u001b[0m\u001b[0mlen\u001b[0m\u001b[0;34m(\u001b[0m\u001b[0msent\u001b[0m\u001b[0;34m)\u001b[0m\u001b[0;34m)\u001b[0m\u001b[0;34m]\u001b[0m\u001b[0;34m\u001b[0m\u001b[0;34m\u001b[0m\u001b[0m\n\u001b[0m",
            "\u001b[0;31mNameError\u001b[0m: name 'noPOS_word2features' is not defined"
          ]
        }
      ]
    },
    {
      "cell_type": "code",
      "metadata": {
        "id": "hAYcHR-hQAw9"
      },
      "source": [
        "custom_tags"
      ],
      "execution_count": null,
      "outputs": []
    },
    {
      "cell_type": "code",
      "metadata": {
        "id": "p-LZl5H1QYlI"
      },
      "source": [
        "def numbers_to_strings(argument):\n",
        "    switcher = {\n",
        "        'ADJ': 0,\n",
        "        'ADV':1,\n",
        "        'CONJ':2,\n",
        "        'NOUN':5,\n",
        "        'DET'\n",
        "        'PRON':7,\n",
        "        'PRT': 8,\n",
        "        'VERB':10\n",
        "        \n",
        "\n",
        "\n",
        "    }\n",
        "    {'ADJP': 0,\n",
        " 'ADVP': 1,\n",
        " 'CONJP': 2,\n",
        " 'INTJ': 3,\n",
        " 'LST': 4,\n",
        " 'NP': 5,\n",
        " 'O': 6,\n",
        " 'PP': 7,\n",
        " 'PRT': 8,\n",
        " 'SBAR': 9,\n",
        " 'VP': 10}\n",
        "\n",
        " [('John', 'NOUN'), (\"'s\", 'PRT'), ('big', 'ADJ'), ('idea', 'NOUN'), ('is', 'VERB'),\n",
        "(\"n't\", 'ADV'), ('all', 'DET'), ('that', 'DET'), ('bad', 'ADJ'), ('.', '.')]"
      ],
      "execution_count": null,
      "outputs": []
    },
    {
      "cell_type": "code",
      "metadata": {
        "id": "mokKLel_0Hyz"
      },
      "source": [
        ""
      ],
      "execution_count": null,
      "outputs": []
    }
  ]
}